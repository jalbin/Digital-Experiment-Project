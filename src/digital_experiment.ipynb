{
 "cells": [
  {
   "cell_type": "markdown",
   "id": "e30c89b2",
   "metadata": {
    "id": "25d7736c-ba17-4aff-b6bb-66eba20fbf4e"
   },
   "source": [
    "# Project 2 | Digital Experiment"
   ]
  },
  {
   "cell_type": "markdown",
   "id": "ae2ea894-bd54-4907-961f-465c0a0d041d",
   "metadata": {
    "id": "d1973e9e-8be6-4039-b70e-d73ee0d94c99"
   },
   "source": [
    "In this project, we will be working with the data from an insurance company, which can be found here: \n",
    "- https://github.com/data-bootcamp-v4/lessons/tree/main/5_6_eda_inf_stats_tableau/project/files_for_project/"
   ]
  },
  {
   "cell_type": "markdown",
   "id": "60b12695",
   "metadata": {
    "id": "31b8a9e7-7db9-4604-991b-ef6771603e57"
   },
   "source": [
    "# Data Cleaning and Formatting"
   ]
  },
  {
   "cell_type": "markdown",
   "id": "c4e559d0",
   "metadata": {
    "id": "81553f19-9f2c-484b-8940-520aff884022"
   },
   "source": [
    "## Cleaning Column Names"
   ]
  },
  {
   "cell_type": "markdown",
   "id": "b2f908d5",
   "metadata": {},
   "source": [
    "<strong><em>Loading datasets into dataframes :</strong></em>"
   ]
  },
  {
   "cell_type": "code",
   "execution_count": 1,
   "id": "a9d060ad",
   "metadata": {
    "id": "5810735c-8056-4442-bbf2-dda38d3e284a"
   },
   "outputs": [],
   "source": [
    "import pandas as pd\n",
    "import numpy as np\n",
    "\n",
    "dfs = {'data1': 'df_data1','data1': 'df_data2','demo': 'df_demo', 'clients': 'df_clients' }\n",
    "\n",
    "dfs['data1']   = pd.read_csv('../data/df_final_web_data_pt_1.txt', sep=',', parse_dates=['date_time'])\n",
    "dfs['data2']   = pd.read_csv('../data/df_final_web_data_pt_2.txt', sep=',', parse_dates=['date_time'])\n",
    "dfs['clients'] = pd.read_csv('../data/df_final_experiment_clients.txt')\n",
    "dfs['demo']    = pd.read_csv('../data/df_final_demo.txt')"
   ]
  },
  {
   "cell_type": "markdown",
   "id": "56c9ce11-2c2f-41f3-b22b-ec04cb3fa508",
   "metadata": {},
   "source": [
    "<strong><em>Glancing df_data1 dataset :</strong></em>"
   ]
  },
  {
   "cell_type": "code",
   "execution_count": 2,
   "id": "c04a3ce9",
   "metadata": {},
   "outputs": [
    {
     "data": {
      "text/html": [
       "<div>\n",
       "<style scoped>\n",
       "    .dataframe tbody tr th:only-of-type {\n",
       "        vertical-align: middle;\n",
       "    }\n",
       "\n",
       "    .dataframe tbody tr th {\n",
       "        vertical-align: top;\n",
       "    }\n",
       "\n",
       "    .dataframe thead th {\n",
       "        text-align: right;\n",
       "    }\n",
       "</style>\n",
       "<table border=\"1\" class=\"dataframe\">\n",
       "  <thead>\n",
       "    <tr style=\"text-align: right;\">\n",
       "      <th></th>\n",
       "      <th>client_id</th>\n",
       "      <th>visitor_id</th>\n",
       "      <th>visit_id</th>\n",
       "      <th>process_step</th>\n",
       "      <th>date_time</th>\n",
       "    </tr>\n",
       "  </thead>\n",
       "  <tbody>\n",
       "    <tr>\n",
       "      <th>0</th>\n",
       "      <td>9988021</td>\n",
       "      <td>580560515_7732621733</td>\n",
       "      <td>781255054_21935453173_531117</td>\n",
       "      <td>step_3</td>\n",
       "      <td>2017-04-17 15:27:07</td>\n",
       "    </tr>\n",
       "    <tr>\n",
       "      <th>1</th>\n",
       "      <td>9988021</td>\n",
       "      <td>580560515_7732621733</td>\n",
       "      <td>781255054_21935453173_531117</td>\n",
       "      <td>step_2</td>\n",
       "      <td>2017-04-17 15:26:51</td>\n",
       "    </tr>\n",
       "  </tbody>\n",
       "</table>\n",
       "</div>"
      ],
      "text/plain": [
       "   client_id            visitor_id                      visit_id process_step  \\\n",
       "0    9988021  580560515_7732621733  781255054_21935453173_531117       step_3   \n",
       "1    9988021  580560515_7732621733  781255054_21935453173_531117       step_2   \n",
       "\n",
       "            date_time  \n",
       "0 2017-04-17 15:27:07  \n",
       "1 2017-04-17 15:26:51  "
      ]
     },
     "execution_count": 2,
     "metadata": {},
     "output_type": "execute_result"
    }
   ],
   "source": [
    "dfs['data1'].head(2)"
   ]
  },
  {
   "cell_type": "markdown",
   "id": "e3d8a1b2-8c1f-4714-8746-33bddf1f0cc0",
   "metadata": {},
   "source": [
    "<strong><em>Glancing df_data2 dataset :</strong></em>"
   ]
  },
  {
   "cell_type": "code",
   "execution_count": 3,
   "id": "733299a8",
   "metadata": {},
   "outputs": [
    {
     "data": {
      "text/html": [
       "<div>\n",
       "<style scoped>\n",
       "    .dataframe tbody tr th:only-of-type {\n",
       "        vertical-align: middle;\n",
       "    }\n",
       "\n",
       "    .dataframe tbody tr th {\n",
       "        vertical-align: top;\n",
       "    }\n",
       "\n",
       "    .dataframe thead th {\n",
       "        text-align: right;\n",
       "    }\n",
       "</style>\n",
       "<table border=\"1\" class=\"dataframe\">\n",
       "  <thead>\n",
       "    <tr style=\"text-align: right;\">\n",
       "      <th></th>\n",
       "      <th>client_id</th>\n",
       "      <th>visitor_id</th>\n",
       "      <th>visit_id</th>\n",
       "      <th>process_step</th>\n",
       "      <th>date_time</th>\n",
       "    </tr>\n",
       "  </thead>\n",
       "  <tbody>\n",
       "    <tr>\n",
       "      <th>0</th>\n",
       "      <td>763412</td>\n",
       "      <td>601952081_10457207388</td>\n",
       "      <td>397475557_40440946728_419634</td>\n",
       "      <td>confirm</td>\n",
       "      <td>2017-06-06 08:56:00</td>\n",
       "    </tr>\n",
       "    <tr>\n",
       "      <th>1</th>\n",
       "      <td>6019349</td>\n",
       "      <td>442094451_91531546617</td>\n",
       "      <td>154620534_35331068705_522317</td>\n",
       "      <td>confirm</td>\n",
       "      <td>2017-06-01 11:59:27</td>\n",
       "    </tr>\n",
       "  </tbody>\n",
       "</table>\n",
       "</div>"
      ],
      "text/plain": [
       "   client_id             visitor_id                      visit_id  \\\n",
       "0     763412  601952081_10457207388  397475557_40440946728_419634   \n",
       "1    6019349  442094451_91531546617  154620534_35331068705_522317   \n",
       "\n",
       "  process_step           date_time  \n",
       "0      confirm 2017-06-06 08:56:00  \n",
       "1      confirm 2017-06-01 11:59:27  "
      ]
     },
     "execution_count": 3,
     "metadata": {},
     "output_type": "execute_result"
    }
   ],
   "source": [
    "dfs['data2'].head(2)"
   ]
  },
  {
   "cell_type": "markdown",
   "id": "b641a2b8-41b1-4ab7-a75e-4b696c175af2",
   "metadata": {},
   "source": [
    "<strong><em>Glancing at f_demo dataset :</strong></em>"
   ]
  },
  {
   "cell_type": "code",
   "execution_count": 4,
   "id": "750cb4cb-01ba-467d-b77c-7e86b23abb30",
   "metadata": {},
   "outputs": [
    {
     "data": {
      "text/html": [
       "<div>\n",
       "<style scoped>\n",
       "    .dataframe tbody tr th:only-of-type {\n",
       "        vertical-align: middle;\n",
       "    }\n",
       "\n",
       "    .dataframe tbody tr th {\n",
       "        vertical-align: top;\n",
       "    }\n",
       "\n",
       "    .dataframe thead th {\n",
       "        text-align: right;\n",
       "    }\n",
       "</style>\n",
       "<table border=\"1\" class=\"dataframe\">\n",
       "  <thead>\n",
       "    <tr style=\"text-align: right;\">\n",
       "      <th></th>\n",
       "      <th>client_id</th>\n",
       "      <th>Variation</th>\n",
       "    </tr>\n",
       "  </thead>\n",
       "  <tbody>\n",
       "    <tr>\n",
       "      <th>0</th>\n",
       "      <td>9988021</td>\n",
       "      <td>Test</td>\n",
       "    </tr>\n",
       "    <tr>\n",
       "      <th>1</th>\n",
       "      <td>8320017</td>\n",
       "      <td>Test</td>\n",
       "    </tr>\n",
       "  </tbody>\n",
       "</table>\n",
       "</div>"
      ],
      "text/plain": [
       "   client_id Variation\n",
       "0    9988021      Test\n",
       "1    8320017      Test"
      ]
     },
     "execution_count": 4,
     "metadata": {},
     "output_type": "execute_result"
    }
   ],
   "source": [
    "dfs['clients'].head(2)"
   ]
  },
  {
   "cell_type": "markdown",
   "id": "9b5071b5-a8c9-4169-9f4c-de86df107024",
   "metadata": {},
   "source": [
    "<strong><em>Glancing at df_clnts dataset :</strong></em>"
   ]
  },
  {
   "cell_type": "code",
   "execution_count": 5,
   "id": "63b73c2a-2caf-40f4-b9e2-7026db87d231",
   "metadata": {},
   "outputs": [
    {
     "data": {
      "text/html": [
       "<div>\n",
       "<style scoped>\n",
       "    .dataframe tbody tr th:only-of-type {\n",
       "        vertical-align: middle;\n",
       "    }\n",
       "\n",
       "    .dataframe tbody tr th {\n",
       "        vertical-align: top;\n",
       "    }\n",
       "\n",
       "    .dataframe thead th {\n",
       "        text-align: right;\n",
       "    }\n",
       "</style>\n",
       "<table border=\"1\" class=\"dataframe\">\n",
       "  <thead>\n",
       "    <tr style=\"text-align: right;\">\n",
       "      <th></th>\n",
       "      <th>client_id</th>\n",
       "      <th>clnt_tenure_yr</th>\n",
       "      <th>clnt_tenure_mnth</th>\n",
       "      <th>clnt_age</th>\n",
       "      <th>gendr</th>\n",
       "      <th>num_accts</th>\n",
       "      <th>bal</th>\n",
       "      <th>calls_6_mnth</th>\n",
       "      <th>logons_6_mnth</th>\n",
       "    </tr>\n",
       "  </thead>\n",
       "  <tbody>\n",
       "    <tr>\n",
       "      <th>0</th>\n",
       "      <td>836976</td>\n",
       "      <td>6.0</td>\n",
       "      <td>73.0</td>\n",
       "      <td>60.5</td>\n",
       "      <td>U</td>\n",
       "      <td>2.0</td>\n",
       "      <td>45105.30</td>\n",
       "      <td>6.0</td>\n",
       "      <td>9.0</td>\n",
       "    </tr>\n",
       "    <tr>\n",
       "      <th>1</th>\n",
       "      <td>2304905</td>\n",
       "      <td>7.0</td>\n",
       "      <td>94.0</td>\n",
       "      <td>58.0</td>\n",
       "      <td>U</td>\n",
       "      <td>2.0</td>\n",
       "      <td>110860.30</td>\n",
       "      <td>6.0</td>\n",
       "      <td>9.0</td>\n",
       "    </tr>\n",
       "    <tr>\n",
       "      <th>2</th>\n",
       "      <td>1439522</td>\n",
       "      <td>5.0</td>\n",
       "      <td>64.0</td>\n",
       "      <td>32.0</td>\n",
       "      <td>U</td>\n",
       "      <td>2.0</td>\n",
       "      <td>52467.79</td>\n",
       "      <td>6.0</td>\n",
       "      <td>9.0</td>\n",
       "    </tr>\n",
       "  </tbody>\n",
       "</table>\n",
       "</div>"
      ],
      "text/plain": [
       "   client_id  clnt_tenure_yr  clnt_tenure_mnth  clnt_age gendr  num_accts  \\\n",
       "0     836976             6.0              73.0      60.5     U        2.0   \n",
       "1    2304905             7.0              94.0      58.0     U        2.0   \n",
       "2    1439522             5.0              64.0      32.0     U        2.0   \n",
       "\n",
       "         bal  calls_6_mnth  logons_6_mnth  \n",
       "0   45105.30           6.0            9.0  \n",
       "1  110860.30           6.0            9.0  \n",
       "2   52467.79           6.0            9.0  "
      ]
     },
     "execution_count": 5,
     "metadata": {},
     "output_type": "execute_result"
    }
   ],
   "source": [
    "dfs['demo'].head(3)"
   ]
  },
  {
   "cell_type": "markdown",
   "id": "8771a0a8-161b-4d72-bc01-e84cea3c0e45",
   "metadata": {},
   "source": [
    "<strong><em>Stripping, renaming in lower case and replacing spaces with _</strong></em>"
   ]
  },
  {
   "cell_type": "code",
   "execution_count": 6,
   "id": "af3c804a",
   "metadata": {},
   "outputs": [],
   "source": [
    "def fix_col_names(df):\n",
    "    df.columns = df.columns.str.strip().str.lower().str.replace(r'\\s+','_',regex=True)\n",
    "    return df\n",
    "for k in  dfs.keys(): \n",
    "    fix_col_names(dfs[k]) "
   ]
  },
  {
   "cell_type": "markdown",
   "id": "8c30973c",
   "metadata": {
    "id": "9cb501ec-36ff-4589-b872-6252bb150316"
   },
   "source": [
    "## Cleaning or transforming Values"
   ]
  },
  {
   "cell_type": "markdown",
   "id": "d837e818-e206-4b56-a787-a67f050fadb4",
   "metadata": {},
   "source": [
    "<strong><em>Replacing 'start', 'step_1', 'step_2', 'step_3' and 'confirm' values in 'process_step' by 1,2,3,4,5:</strong></em>"
   ]
  },
  {
   "cell_type": "code",
   "execution_count": 7,
   "id": "2aa4295c",
   "metadata": {
    "id": "3f8ee5cb-50ab-48af-8a9f-9a389804033c"
   },
   "outputs": [],
   "source": [
    "dic = {'start':'1', 'step_1':'2','step_2':'3','step_3':'4','confirm':'5' }\n",
    "for df in [dfs['data1'] , dfs['data2']]:\n",
    "    for k,v in dic.items(): df['process_step'] = df['process_step'].str.replace(k,v)"
   ]
  },
  {
   "cell_type": "markdown",
   "id": "0ffba4ed-4459-44d9-bde7-7ba22c03d4de",
   "metadata": {},
   "source": [
    "<strong><em>Checking changes:</strong></em>"
   ]
  },
  {
   "cell_type": "code",
   "execution_count": 8,
   "id": "cb08b3b1-79a9-4547-b003-155acb75a9f9",
   "metadata": {},
   "outputs": [
    {
     "data": {
      "text/html": [
       "<div>\n",
       "<style scoped>\n",
       "    .dataframe tbody tr th:only-of-type {\n",
       "        vertical-align: middle;\n",
       "    }\n",
       "\n",
       "    .dataframe tbody tr th {\n",
       "        vertical-align: top;\n",
       "    }\n",
       "\n",
       "    .dataframe thead th {\n",
       "        text-align: right;\n",
       "    }\n",
       "</style>\n",
       "<table border=\"1\" class=\"dataframe\">\n",
       "  <thead>\n",
       "    <tr style=\"text-align: right;\">\n",
       "      <th></th>\n",
       "      <th>client_id</th>\n",
       "      <th>visitor_id</th>\n",
       "      <th>visit_id</th>\n",
       "      <th>process_step</th>\n",
       "      <th>date_time</th>\n",
       "    </tr>\n",
       "  </thead>\n",
       "  <tbody>\n",
       "    <tr>\n",
       "      <th>0</th>\n",
       "      <td>9988021</td>\n",
       "      <td>580560515_7732621733</td>\n",
       "      <td>781255054_21935453173_531117</td>\n",
       "      <td>4</td>\n",
       "      <td>2017-04-17 15:27:07</td>\n",
       "    </tr>\n",
       "  </tbody>\n",
       "</table>\n",
       "</div>"
      ],
      "text/plain": [
       "   client_id            visitor_id                      visit_id process_step  \\\n",
       "0    9988021  580560515_7732621733  781255054_21935453173_531117            4   \n",
       "\n",
       "            date_time  \n",
       "0 2017-04-17 15:27:07  "
      ]
     },
     "execution_count": 8,
     "metadata": {},
     "output_type": "execute_result"
    }
   ],
   "source": [
    "dfs['data1'].head(1)"
   ]
  },
  {
   "cell_type": "code",
   "execution_count": 9,
   "id": "b7b96583-567f-4b37-b0e4-28deb0cd8e49",
   "metadata": {},
   "outputs": [
    {
     "data": {
      "text/html": [
       "<div>\n",
       "<style scoped>\n",
       "    .dataframe tbody tr th:only-of-type {\n",
       "        vertical-align: middle;\n",
       "    }\n",
       "\n",
       "    .dataframe tbody tr th {\n",
       "        vertical-align: top;\n",
       "    }\n",
       "\n",
       "    .dataframe thead th {\n",
       "        text-align: right;\n",
       "    }\n",
       "</style>\n",
       "<table border=\"1\" class=\"dataframe\">\n",
       "  <thead>\n",
       "    <tr style=\"text-align: right;\">\n",
       "      <th></th>\n",
       "      <th>client_id</th>\n",
       "      <th>visitor_id</th>\n",
       "      <th>visit_id</th>\n",
       "      <th>process_step</th>\n",
       "      <th>date_time</th>\n",
       "    </tr>\n",
       "  </thead>\n",
       "  <tbody>\n",
       "    <tr>\n",
       "      <th>0</th>\n",
       "      <td>763412</td>\n",
       "      <td>601952081_10457207388</td>\n",
       "      <td>397475557_40440946728_419634</td>\n",
       "      <td>5</td>\n",
       "      <td>2017-06-06 08:56:00</td>\n",
       "    </tr>\n",
       "  </tbody>\n",
       "</table>\n",
       "</div>"
      ],
      "text/plain": [
       "   client_id             visitor_id                      visit_id  \\\n",
       "0     763412  601952081_10457207388  397475557_40440946728_419634   \n",
       "\n",
       "  process_step           date_time  \n",
       "0            5 2017-06-06 08:56:00  "
      ]
     },
     "execution_count": 9,
     "metadata": {},
     "output_type": "execute_result"
    }
   ],
   "source": [
    "dfs['data2'].head(1)"
   ]
  },
  {
   "cell_type": "markdown",
   "id": "6664e4f4",
   "metadata": {
    "id": "85ff78ce-0174-4890-9db3-8048b7d7d2d0"
   },
   "source": [
    "## Formatting data types"
   ]
  },
  {
   "cell_type": "markdown",
   "id": "87961ccc-002f-4d76-83e5-4b6537c709ff",
   "metadata": {},
   "source": [
    "<strong><em>Changing 'process_step' into a float</strong></em>"
   ]
  },
  {
   "cell_type": "code",
   "execution_count": 10,
   "id": "8b002781",
   "metadata": {
    "id": "eb8f5991-73e9-405f-bf1c-6b7c589379a9"
   },
   "outputs": [],
   "source": [
    "for df in [dfs['data1'] , dfs['data2']]: df['process_step'] = df['process_step'].apply(float)"
   ]
  },
  {
   "cell_type": "markdown",
   "id": "96ebb19a",
   "metadata": {
    "id": "14c52e28-2d0c-4dd2-8bd5-3476e34fadc1"
   },
   "source": [
    "## Dealing with Null values"
   ]
  },
  {
   "cell_type": "markdown",
   "id": "6b92c7e0-aa8a-4802-a910-fa6104bec2c3",
   "metadata": {},
   "source": [
    "<strong><em>Calculating the percentage of missing values per column</strong></em>"
   ]
  },
  {
   "cell_type": "code",
   "execution_count": 11,
   "id": "b80b70a5",
   "metadata": {
    "scrolled": true
   },
   "outputs": [
    {
     "name": "stdout",
     "output_type": "stream",
     "text": [
      "Dataset 'demo' has missing values : \n",
      "client_id           0.00\n",
      "clnt_tenure_yr      0.02\n",
      "clnt_tenure_mnth    0.02\n",
      "clnt_age            0.02\n",
      "gendr               0.02\n",
      "num_accts           0.02\n",
      "bal                 0.02\n",
      "calls_6_mnth        0.02\n",
      "logons_6_mnth       0.02\n",
      "dtype: float64 \n",
      "\n",
      "\n",
      "Dataset 'clients' has missing values : \n",
      "client_id     0.00\n",
      "variation    28.48\n",
      "dtype: float64 \n",
      "\n",
      "\n"
     ]
    }
   ],
   "source": [
    "for k in dfs.keys():\n",
    "    if sum(round(dfs[k].isna().sum()/dfs[k].shape[0]*100,2)) > 0:\n",
    "        print(f\"Dataset '{k}' has missing values : \\n{round(dfs[k].isna().sum()/dfs[k].shape[0]*100,2) } \\n\\n\")"
   ]
  },
  {
   "cell_type": "markdown",
   "id": "89c5375f",
   "metadata": {},
   "source": [
    "<strong><em><ins>Observation:</ins> 28% of missing values for the \"variation\" column in df_clnts dataset</strong></em>\n",
    " !"
   ]
  },
  {
   "cell_type": "markdown",
   "id": "7b141249-3464-4e09-8b92-86a17c500b11",
   "metadata": {},
   "source": [
    "<strong><em>Deleting rows with missing value for column \"variation\"</strong></em>"
   ]
  },
  {
   "cell_type": "code",
   "execution_count": 12,
   "id": "407e6bbc",
   "metadata": {},
   "outputs": [],
   "source": [
    "dfs['clients'].dropna(subset=['variation'], inplace=True)"
   ]
  },
  {
   "cell_type": "markdown",
   "id": "4548092b",
   "metadata": {
    "id": "98416351-e999-4156-9834-9b00a311adfa"
   },
   "source": [
    "## Dealing with duplicates"
   ]
  },
  {
   "cell_type": "markdown",
   "id": "dddf2d43-b1f5-4038-b058-d5d775df460f",
   "metadata": {},
   "source": [
    "<strong><em>Dropping duplicates :</strong></em>"
   ]
  },
  {
   "cell_type": "code",
   "execution_count": 13,
   "id": "b0ea38a4",
   "metadata": {
    "id": "1929362c-47ed-47cb-baca-358b78d401a0"
   },
   "outputs": [
    {
     "name": "stdout",
     "output_type": "stream",
     "text": [
      "Dataframe 'data1' has duplicated rows\n",
      "\n",
      "Dataframe 'data2' has duplicated rows\n",
      "\n"
     ]
    }
   ],
   "source": [
    "for k in dfs.keys():\n",
    "    if dfs[k].duplicated().any():\n",
    "        print(f\"Dataframe '{k}' has duplicated rows\\n\")\n",
    "        dfs[k].drop_duplicates(inplace=True)"
   ]
  },
  {
   "cell_type": "code",
   "execution_count": 14,
   "id": "f1ca1110-87a1-43f6-a2be-bfdcb79a7034",
   "metadata": {},
   "outputs": [
    {
     "name": "stdout",
     "output_type": "stream",
     "text": [
      "There are no more duplicated rows on any datasets.\n"
     ]
    }
   ],
   "source": [
    "for k in dfs.keys():\n",
    "    if dfs[k].duplicated().any():\n",
    "        print(f\"Dataframe '{k}' still has duplicated rows\\n\")\n",
    "print(\"There are no more duplicated rows on any datasets.\")"
   ]
  },
  {
   "cell_type": "markdown",
   "id": "769a4bb9-426d-4558-aa7c-ba1c1c40a5f5",
   "metadata": {
    "id": "98416351-e999-4156-9834-9b00a311adfa"
   },
   "source": [
    "## Saving cleaned datasets"
   ]
  },
  {
   "cell_type": "markdown",
   "id": "1f599f92-cfbc-4179-83aa-25c372b8ac64",
   "metadata": {},
   "source": [
    "<strong><em>Concatenating data1 & data2 dataframes prioring saving :</strong></em>"
   ]
  },
  {
   "cell_type": "code",
   "execution_count": 15,
   "id": "a6ad168a-96ed-43e1-b653-2171d2112b6a",
   "metadata": {},
   "outputs": [],
   "source": [
    "df_web = pd.concat([dfs['data1'], dfs['data2']])"
   ]
  },
  {
   "cell_type": "code",
   "execution_count": 16,
   "id": "90352394-c6be-4fa2-8f24-1aeeb4650c7f",
   "metadata": {},
   "outputs": [
    {
     "data": {
      "text/html": [
       "<div>\n",
       "<style scoped>\n",
       "    .dataframe tbody tr th:only-of-type {\n",
       "        vertical-align: middle;\n",
       "    }\n",
       "\n",
       "    .dataframe tbody tr th {\n",
       "        vertical-align: top;\n",
       "    }\n",
       "\n",
       "    .dataframe thead th {\n",
       "        text-align: right;\n",
       "    }\n",
       "</style>\n",
       "<table border=\"1\" class=\"dataframe\">\n",
       "  <thead>\n",
       "    <tr style=\"text-align: right;\">\n",
       "      <th></th>\n",
       "      <th>client_id</th>\n",
       "      <th>visitor_id</th>\n",
       "      <th>visit_id</th>\n",
       "      <th>process_step</th>\n",
       "      <th>date_time</th>\n",
       "    </tr>\n",
       "  </thead>\n",
       "  <tbody>\n",
       "    <tr>\n",
       "      <th>0</th>\n",
       "      <td>9988021</td>\n",
       "      <td>580560515_7732621733</td>\n",
       "      <td>781255054_21935453173_531117</td>\n",
       "      <td>4.0</td>\n",
       "      <td>2017-04-17 15:27:07</td>\n",
       "    </tr>\n",
       "    <tr>\n",
       "      <th>1</th>\n",
       "      <td>9988021</td>\n",
       "      <td>580560515_7732621733</td>\n",
       "      <td>781255054_21935453173_531117</td>\n",
       "      <td>3.0</td>\n",
       "      <td>2017-04-17 15:26:51</td>\n",
       "    </tr>\n",
       "  </tbody>\n",
       "</table>\n",
       "</div>"
      ],
      "text/plain": [
       "   client_id            visitor_id                      visit_id  \\\n",
       "0    9988021  580560515_7732621733  781255054_21935453173_531117   \n",
       "1    9988021  580560515_7732621733  781255054_21935453173_531117   \n",
       "\n",
       "   process_step           date_time  \n",
       "0           4.0 2017-04-17 15:27:07  \n",
       "1           3.0 2017-04-17 15:26:51  "
      ]
     },
     "execution_count": 16,
     "metadata": {},
     "output_type": "execute_result"
    }
   ],
   "source": [
    "df_web.head(2)"
   ]
  },
  {
   "cell_type": "code",
   "execution_count": 17,
   "id": "0a2fef19-b030-489f-9f24-7164d4a86e25",
   "metadata": {},
   "outputs": [
    {
     "name": "stdout",
     "output_type": "stream",
     "text": [
      "numbers of rows of df_web matches the sum of the number of rows of data1 + data2\n"
     ]
    }
   ],
   "source": [
    "if (dfs['data1'].shape[0] + dfs['data2'].shape[0] ==  df_web.shape[0]):\n",
    "    print(\"numbers of rows of df_web matches the sum of the number of rows of data1 + data2\")\n",
    "else : \n",
    "    print(\"The concatenation of data1 + data2 did not work\")"
   ]
  },
  {
   "cell_type": "code",
   "execution_count": 18,
   "id": "d46c529e",
   "metadata": {},
   "outputs": [],
   "source": [
    "df_web.to_csv('../data/cleaned_df_web.csv')"
   ]
  },
  {
   "cell_type": "code",
   "execution_count": 19,
   "id": "9c4efa34-5679-4103-9430-d41085597f04",
   "metadata": {},
   "outputs": [],
   "source": [
    "dfs['clients'].to_csv('../data/cleaned_df_clients.csv')"
   ]
  },
  {
   "cell_type": "code",
   "execution_count": 20,
   "id": "4bd5798a-1c35-48b1-86fa-2db1aeb5e765",
   "metadata": {},
   "outputs": [],
   "source": [
    "dfs['demo'].to_csv('../data/cleaned_df_demo.csv')"
   ]
  },
  {
   "cell_type": "markdown",
   "id": "60d1638a-ee18-4f57-8218-3f9d6d5bd7fd",
   "metadata": {},
   "source": [
    "Put all the data cleaning and formatting steps into functions, and create a main function that performs all the cleaning and formatting.\n",
    "Write these functions in separate .py file(s). By putting these steps into functions, we can make the code more modular and easier to maintain."
   ]
  }
 ],
 "metadata": {
  "colab": {
   "provenance": []
  },
  "kernelspec": {
   "display_name": "Python 3 (ipykernel)",
   "language": "python",
   "name": "python3"
  },
  "language_info": {
   "codemirror_mode": {
    "name": "ipython",
    "version": 3
   },
   "file_extension": ".py",
   "mimetype": "text/x-python",
   "name": "python",
   "nbconvert_exporter": "python",
   "pygments_lexer": "ipython3",
   "version": "3.8.18"
  }
 },
 "nbformat": 4,
 "nbformat_minor": 5
}
